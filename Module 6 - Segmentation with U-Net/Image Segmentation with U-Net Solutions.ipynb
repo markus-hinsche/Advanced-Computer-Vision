{
 "cells": [
  {
   "cell_type": "markdown",
   "metadata": {},
   "source": [
    "# Nuclei segmentation using U-Net\n",
    "\n",
    "\n",
    "![Nuclei segmentation](https://pics.spark-in.me/upload/751214b3f2d19ed1cdfcef100d9f8f5a.png)\n",
    "<center>Image taken from <a href=\"https://spark-in.me/post/playing-with-dwt-and-ds-bowl-2018\">here</a></center>\n",
    "<br><br>\n",
    "In this project, we will talk about **object segmentation**, which is a bit different from the task you've done so far. In the object detection task, we have to predict a bounding box that goes around an object at hand, but now we need to make predictions on the pixel level! In other words, object segmentation is a task where the model needs to make predictions for each pixel in an image.\n",
    "\n",
    "One example of object segmentation is pedestrian detection. In self-driving cars, we would like to make predictions of car's surroundings as precise as possible. Having a pixel-level annotation for each object in a frame is a fantastic way to navigate around.\n",
    "\n",
    "![Self driving car segmentation](https://cdn.motor1.com/images/mgl/PKgL4/s6/following-a-fire-engine-with-tesla-autopilot-source-greentheonly.jpg)\n",
    "<center>Image taken from <a href=\"https://insideevs.com/news/396126/tesla-autopilot-neural-network-advancements/\">here</a></center>\n",
    "<br><br>\n",
    "\n",
    "\n",
    "### Steps:\n",
    "1. Import dependencies\n",
    "2. Custom mask generator\n",
    "3. Loading the dataset\n",
    "4. Encoder block\n",
    "5. Decoder block\n",
    "6. U-Net\n",
    "7. Training callbacks\n",
    "8. Model training\n",
    "9. Generating predictions\n",
    "\n",
    "### Topics covered and learning objectives\n",
    "- Object Segmentation\n",
    "- Autoencoders\n",
    "- Generative models\n",
    "- U-Net\n",
    "- Generating images as predictions\n",
    "\n",
    "### Time estimates:\n",
    "- Reading/Watching materials: 3h 20min\n",
    "- Exercises: 1h - 1h 30min\n",
    "<br><br>\n",
    "- **Total**: ~5h\n",
    "\n",
    "\n",
    "To learn more about object segmentation:"
   ]
  },
  {
   "cell_type": "code",
   "execution_count": 1,
   "id": "61a57e9c",
   "metadata": {},
   "outputs": [],
   "source": [
    "# reload notebook changes\n",
    "%load_ext autoreload\n",
    "%autoreload 2\n",
    "\n",
    "from IPython.display import IFrame"
   ]
  },
  {
   "cell_type": "code",
   "execution_count": 2,
   "id": "47b4eda5",
   "metadata": {},
   "outputs": [
    {
     "data": {
      "text/html": [
       "\n",
       "        <iframe\n",
       "            width=\"1000\"\n",
       "            height=\"500\"\n",
       "            src=\"https://www.youtube.com/embed/XMSjOatyH0k\"\n",
       "            frameborder=\"0\"\n",
       "            allowfullscreen\n",
       "            \n",
       "        ></iframe>\n",
       "        "
      ],
      "text/plain": [
       "<IPython.lib.display.IFrame at 0x10924f4f0>"
      ]
     },
     "execution_count": 2,
     "metadata": {},
     "output_type": "execute_result"
    }
   ],
   "source": [
    "IFrame(\"https://www.youtube.com/embed/XMSjOatyH0k\", 1000, 500)"
   ]
  },
  {
   "cell_type": "markdown",
   "id": "048ff70f",
   "metadata": {},
   "source": [
    "**In some cases, IPython widgets do not work!**\n",
    "\n",
    "If this is the case here is the like for YouTube video from the cell above: https://www.youtube.com/watch?v=XMSjOatyH0k\n"
   ]
  },
  {
   "cell_type": "markdown",
   "id": "f157a2d9",
   "metadata": {},
   "source": [
    "\n",
    "## Task introduction\n",
    "\n",
    "![U-Net](https://miro.medium.com/max/700/0*l23lbOWx-_deTkyk.png)\n",
    "\n",
    "Object segmentation is vital for systems that require high precision. Most health-related tasks are in this category. In this example, we will use data from Data Science Bowl 2018 -  Prediction of nuclei. \n",
    "\n",
    "To understand better **why nuclei** here is a paragraph from Kaggle's website:\n",
    "\n",
    "    Identifying the cells' nuclei is the starting point for most analyses because most of the human body's 30 trillion cells contain a nucleus full of DNA. This genetic code programs each cell. Identifying nuclei allows researchers to identify each cell in a sample, and by measuring how cells react to various treatments, the researcher can understand the underlying biological processes at work.\n",
    "\n",
    "![](https://storage.googleapis.com/kaggle-media/competitions/dsb-2018/dsb.jpg)\n",
    "<center>Image taken from <a href=\"https://www.kaggle.com/c/data-science-bowl-2018\">here</a></center>\n",
    "<br><br>\n"
   ]
  },
  {
   "cell_type": "code",
   "execution_count": 3,
   "id": "299a5f53",
   "metadata": {},
   "outputs": [
    {
     "data": {
      "text/html": [
       "\n",
       "        <iframe\n",
       "            width=\"1000\"\n",
       "            height=\"500\"\n",
       "            src=\"https://www.youtube.com/embed/Dbiq6l50zO8\"\n",
       "            frameborder=\"0\"\n",
       "            allowfullscreen\n",
       "            \n",
       "        ></iframe>\n",
       "        "
      ],
      "text/plain": [
       "<IPython.lib.display.IFrame at 0x10924fe50>"
      ]
     },
     "execution_count": 3,
     "metadata": {},
     "output_type": "execute_result"
    }
   ],
   "source": [
    "IFrame(\"https://www.youtube.com/embed/Dbiq6l50zO8\", 1000, 500)"
   ]
  },
  {
   "cell_type": "markdown",
   "id": "140ead86",
   "metadata": {},
   "source": [
    "**In some cases, IPython widgets do not work!**\n",
    "\n",
    "If this is the case, here is the like for YouTube video from the cell above: https://www.youtube.com/watch?v=Dbiq6l50zO8\n",
    "\n",
    "\n",
    "### Imports for the project"
   ]
  },
  {
   "cell_type": "code",
   "execution_count": 4,
   "id": "2ef9547f",
   "metadata": {},
   "outputs": [],
   "source": [
    "from pathlib import PurePath, Path\n",
    "import os\n",
    "import sys\n",
    "import cv2\n",
    "import random\n",
    "\n",
    "import numpy as np\n",
    "import pandas as pd\n",
    "import tensorflow as tf\n",
    "import matplotlib.pyplot as plt\n",
    "\n",
    "from itertools import chain\n",
    "from tqdm.notebook import tqdm\n",
    "\n",
    "from tensorflow.keras.models import Model, load_model\n",
    "from tensorflow.keras.layers import Input, Dropout, Conv2D, Conv2DTranspose, MaxPooling2D\n",
    "from tensorflow.keras.callbacks import EarlyStopping, ModelCheckpoint\n",
    "\n",
    "from tests import TEST_UNET_MODEL, TEST_DECODER_BLOCK, TEST_ENCODER_BLOCK"
   ]
  },
  {
   "cell_type": "markdown",
   "id": "26ee9e89",
   "metadata": {},
   "source": [
    "## Download the dataset\n",
    "\n",
    "The dataset is an official part of the Kaggle's Data Science Bowl 2018 competition. To download this dataset, you'll need to be logged in using your Kaggle account and accept the competition rules! Link to the competition and data is [here](https://www.kaggle.com/c/data-science-bowl-2018/data)\n",
    "\n",
    "Download it from the *[Data](https://www.kaggle.com/c/data-science-bowl-2018/data)* page by clicking onto **Download all**\n",
    "\n",
    "![](images/download-bowl.png)\n",
    "\n",
    "Once downloaded, your zip file will contain **seven (7)** zip files! We don't need all of them. \n",
    "\n",
    "Extract only these two files:\n",
    "- stage1_train.zip\n",
    "- stage1_test.zip\n",
    "\n",
    "Extract both of them in the working directory or **data/module_6** folder in the root of the repo for the following to work!\n",
    "\n",
    "Once I've done that, I had two sub-folders, which I renamed to **train** and **test**.\n",
    "After extracting everything, this was my folder structure:\n",
    "\n",
    "<pre>\n",
    "<b>module_6</b>\n",
    "|__ <b>train</b>\n",
    "    |______ <b>00ae65c1c6631ae6f2be1a449902976e6eb8483bf6b0740d00530220832c6d3e</b>\n",
    "            |____<b>images</b> 00ae65c1c6631ae6f2be1a449902976e6eb8483bf6b0740d00530220832c6d3e.png\n",
    "            |____<b>masks</b> [mask_img_1.png, mask_img_2.jpg, mask_img_3.png ...]\n",
    "    |______ <b>0a7d30b252359a10fd298b638b90cb9ada3acced4e0c0e5a3692013f432ee4e9</b>\n",
    "            |____<b>images</b>: 0a7d30b252359a10fd298b638b90cb9ada3acced4e0c0e5a3692013f432ee4e9.png\n",
    "            |____<b>masks</b>: [mask_img_1.png, mask_img_2.jpg, mask_img_3.png ...]\n",
    "    |______ <b>...</b>\n",
    "|__ <b>test</b>\n",
    "    |______ <b>0a849e0eb15faa8a6d7329c3dd66aabe9a294cccb52ed30a90c8ca99092ae732</b>\n",
    "            |____<b>images</b> 0a849e0eb15faa8a6d7329c3dd66aabe9a294cccb52ed30a90c8ca99092ae732.png\n",
    "            |____<b>masks</b> [mask_img_1.png, mask_img_2.jpg, mask_img_3.png ...]\n",
    "    |______ <b>0e132f71c8b4875c3c2dd7a22997468a3e842b46aa9bd47cf7b0e8b7d63f0925</b>\n",
    "            |____<b>images</b>: 0e132f71c8b4875c3c2dd7a22997468a3e842b46aa9bd47cf7b0e8b7d63f0925.png\n",
    "            |____<b>masks</b>: [mask_img_1.png, mask_img_2.jpg, mask_img_3.png ...]\n",
    "    |______ <b>...</b>\n",
    "</pre>\n",
    "\n",
    "For each image, there are several mask images (for each cell individually). In the data preprocessing stage, we will need to combine all of these masks to create one single mask per image, acting as the target for our U-Net."
   ]
  },
  {
   "cell_type": "code",
   "execution_count": 5,
   "id": "140e418d",
   "metadata": {},
   "outputs": [],
   "source": [
    "IMG_SIZE = (128, 128, 1)\n",
    "\n",
    "# CHANGE THIS IF YOU NAMED YOUR DATA FOLDER DIFFERENTLY\n",
    "REPO_DIR = Path(os.getcwd()).parent\n",
    "\n",
    "# Note: Please put the data into the data folder in the root of the repo for the following to work!\n",
    "TRAIN_PATH = REPO_DIR / \"data/module_6/train\"\n",
    "TEST_PATH = REPO_DIR / \"data/module_6/test\""
   ]
  },
  {
   "cell_type": "markdown",
   "id": "c10fead2",
   "metadata": {},
   "source": [
    "## Exercise 1 Making targets from masks\n",
    "\n",
    "In this Data Science bowl, the authors provided us with a bit of a challenge - to make our targets. For each image, we have between 1 and 300 separate masks! Having tons of images as our targets will make the learning process for U-Net much harder. \n",
    "\n",
    "To overcome this, we will create one single target image, which will be cross-over from all the masks provided for that image.\n",
    "\n",
    "Our original masks look like this:\n",
    "\n",
    "![](images/masks.png)\n",
    "\n",
    "From this, we will end up with this:\n",
    "\n",
    "![](images/final-mask.png)\n",
    "\n",
    "As you can see, the final mask is made from many white spots, where each of these dots was an image for itself.\n",
    "\n",
    "Your task now is to complete the **make_mask_target** function, which does precisely this. \n",
    "\n",
    "Here are the steps to follow:\n",
    "\n",
    "1. Make a matrix of zeros using np.zeros function. This matrix should be the size of IMG_SIZE[0] x IMG_SIZE[1] x 1 \n",
    "    NOTE: dtype is np.bool because we would like to binarize the output for predictions\n",
    "    \n",
    "2. Iterate through all mask images located in the *mask_folder_path* (input of the function)\n",
    "\n",
    "3. Load each mask using OpenCV in the GRAYSCALE reading mode \n",
    "\n",
    "4. Binarize the input using the OTSU threshold technique \n",
    "   - Here is how-to: https://stackoverflow.com/questions/7624765/converting-an-opencv-image-to-black-and-white\n",
    "   \n",
    "\n",
    "5. Resize the image to be (IMG_SIZE[0], IMG_SIZE[1])\n",
    "\n",
    "6. Expend dimensions on using np.expand_dims(matrix, axis=-1)\n",
    "\n",
    "7. Merge the matrix created in step 1 with the matrix from step 6 using np.maximum\n",
    "    - Using this method will take maximum values for all places in the matrix, preserving all masks already merged in the process\n",
    "    \n",
    "\n",
    "8. Return matrix from step 1 with all masks merged into it"
   ]
  },
  {
   "cell_type": "code",
   "execution_count": 6,
   "id": "56ed5e48",
   "metadata": {},
   "outputs": [],
   "source": [
    "def make_mask_target(mask_folder_path):\n",
    "    \"\"\"\n",
    "    Creates target images from many nucleai masks.\n",
    "\n",
    "    Args:\n",
    "        mask_folder_path :string: - path to the folder that contains all the mask for an input image\n",
    "    \"\"\"\n",
    "    target = np.zeros((IMG_SIZE[0], IMG_SIZE[1], 1), dtype=np.bool_)\n",
    "\n",
    "    for mask_candidate in os.listdir(masks_folder):\n",
    "        mask_candidate = cv2.imread(os.path.join(masks_folder, mask_candidate), cv2.IMREAD_GRAYSCALE)\n",
    "\n",
    "        # EXERCISE\n",
    "        (thresh, im_bw) = cv2.threshold(mask_candidate, 128, 255, cv2.THRESH_BINARY | cv2.THRESH_OTSU)\n",
    "        mask_candidate = cv2.resize(im_bw, (IMG_SIZE[0], IMG_SIZE[1]), cv2.INTER_LINEAR)\n",
    "\n",
    "        mask_candidate = np.expand_dims(mask_candidate, axis=-1)\n",
    "        target = np.maximum(target, mask_candidate)\n",
    "\n",
    "    return target"
   ]
  },
  {
   "cell_type": "markdown",
   "id": "b4f1a256",
   "metadata": {},
   "source": [
    "### Loading the dataset into memory"
   ]
  },
  {
   "cell_type": "code",
   "execution_count": 7,
   "id": "52f0df55",
   "metadata": {},
   "outputs": [],
   "source": [
    "# !pip install ipywidgets"
   ]
  },
  {
   "cell_type": "code",
   "execution_count": 8,
   "id": "df5924bb",
   "metadata": {
    "scrolled": true
   },
   "outputs": [
    {
     "data": {
      "application/vnd.jupyter.widget-view+json": {
       "model_id": "753c16b702004f0aa361a54c6bbe7c55",
       "version_major": 2,
       "version_minor": 0
      },
      "text/plain": [
       "  0%|          | 0/671 [00:00<?, ?it/s]"
      ]
     },
     "metadata": {},
     "output_type": "display_data"
    },
    {
     "name": "stderr",
     "output_type": "stream",
     "text": [
      "[ WARN:0@7.593] global loadsave.cpp:241 findDecoder imread_('/Users/markus/Development/dsr/Advanced-Computer-Vision/data/module_6/train/.DS_Store/images/.DS_Store.png'): can't open/read file: check file path/integrity\n"
     ]
    }
   ],
   "source": [
    "X_train = []\n",
    "y_train = []\n",
    "\n",
    "for i, folder in tqdm(enumerate(os.listdir(TRAIN_PATH.__str__())), total=len(os.listdir(TRAIN_PATH.__str__()))):\n",
    "    path = TRAIN_PATH / folder\n",
    "    img_folder =  path / \"images\"\n",
    "    masks_folder = path / \"masks\"\n",
    "\n",
    "    # Load image in the GrayScale format\n",
    "    img = cv2.imread((img_folder / (path.parts[-1] + \".png\")).__str__(), cv2.IMREAD_GRAYSCALE)\n",
    "\n",
    "    # Resize image to the IMG_SIZE\n",
    "    if img is None:\n",
    "        continue\n",
    "    img = cv2.resize(img, (IMG_SIZE[0], IMG_SIZE[1]), cv2.INTER_LINEAR)\n",
    "    X_train.append(img)\n",
    "\n",
    "    # Creating the target mask\n",
    "    target = make_mask_target(masks_folder)\n",
    "\n",
    "    y_train.append(target / 255.0)\n",
    "\n",
    "X_train = np.expand_dims(np.array(X_train), -1)\n",
    "y_train = np.array(y_train)"
   ]
  },
  {
   "cell_type": "markdown",
   "id": "62e260c4",
   "metadata": {},
   "source": [
    "### Loading test images to check model preformance at the end"
   ]
  },
  {
   "cell_type": "code",
   "execution_count": 9,
   "id": "20ea51bb",
   "metadata": {},
   "outputs": [
    {
     "data": {
      "application/vnd.jupyter.widget-view+json": {
       "model_id": "ec92a0fc8ea046bab35798e80c67f592",
       "version_major": 2,
       "version_minor": 0
      },
      "text/plain": [
       "  0%|          | 0/66 [00:00<?, ?it/s]"
      ]
     },
     "metadata": {},
     "output_type": "display_data"
    }
   ],
   "source": [
    "# Get and resize test images\n",
    "X_test = []\n",
    "\n",
    "for i, folder in tqdm(enumerate(os.listdir(TEST_PATH.__str__())), total=len(os.listdir(TEST_PATH.__str__()))):\n",
    "    if folder == \".DS_Store\":\n",
    "        continue\n",
    "    path = TEST_PATH / folder\n",
    "    img_folder =  path / \"images\"\n",
    "\n",
    "    # Load image in he RGB format\n",
    "    # if img is None:\n",
    "    #     continue\n",
    "    img = cv2.imread((img_folder / (path.parts[-1] + \".png\")).__str__(), cv2.IMREAD_GRAYSCALE)\n",
    "\n",
    "    img = cv2.resize(img, (IMG_SIZE[0], IMG_SIZE[1]), cv2.INTER_LINEAR)\n",
    "    X_test.append(img)\n",
    "\n",
    "X_test = np.array(X_test)"
   ]
  },
  {
   "cell_type": "code",
   "execution_count": 10,
   "id": "ee2f0409",
   "metadata": {},
   "outputs": [
    {
     "data": {
      "text/plain": [
       "(65, 128, 128)"
      ]
     },
     "execution_count": 10,
     "metadata": {},
     "output_type": "execute_result"
    }
   ],
   "source": [
    "X_test.shape"
   ]
  },
  {
   "cell_type": "markdown",
   "id": "69f0575f",
   "metadata": {},
   "source": [
    "## Exercise 2 Encoder block\n",
    "\n",
    "Before we start building the architecture, it is important to learn the underlying concet of U-Net - Autoencoders! \n",
    "\n",
    "Intro to autoencoders: https://www.jeremyjordan.me/autoencoders/\n",
    "Examples of AE applications: https://towardsdatascience.com/auto-encoder-what-is-it-and-what-is-it-used-for-part-1-3e5c6f017726\n",
    "\n",
    "\n",
    "In this exercise, you'll complete the **encoder_block** function. This function will be used to create a single block in the first part of the network. \n",
    "\n",
    "![](https://miro.medium.com/max/384/1*yGu1oXPeqEvbKRuWL0z3Dw.png)\n",
    "\n",
    "It accepts two arguments *inputs* from a previous layer in the network, and the second one is *features* used for Conv2D layers.\n",
    "\n",
    "Each encoder block has **four (4)** parts.\n",
    "1. Conv2D layer, which gets the number of features from the argument of the function, 3x3 kernel, and activation is ReLu. Padding is \"same\"\n",
    "2. Dropout layer with 0.2 drop rate\n",
    "3. Conv2d layer with the same set of arguments as the first convolutional layer\n",
    "4. Finish the encoder block with MaxPooling2d layer with a pool size of 2x2\n",
    "\n",
    "NOTE: This function should return **TWO** things\n",
    "    - Output from the 2nd Conv2d layer (output from this layer will be used to concatenate with decoder layers)\n",
    "    - Output from the MaxPooling layer (this is the regular output used as a previous layer in the network)"
   ]
  },
  {
   "cell_type": "code",
   "execution_count": 11,
   "id": "b6041055",
   "metadata": {},
   "outputs": [],
   "source": [
    "def encoder_block(X, features):\n",
    "    \"\"\"\n",
    "    Create an encoder_block (layer) for the U-Net\n",
    "\n",
    "    Args:\n",
    "        X - input from the previous layer\n",
    "        features :int: - number of features used in Conv2D layers\n",
    "    \"\"\"\n",
    "    X = Conv2D(features, (3, 3), activation='relu', padding='same') (X)\n",
    "    X = Dropout(0.2) (X)\n",
    "    enX = Conv2D(features, (3, 3), activation='relu', padding='same') (X)\n",
    "    X = MaxPooling2D(pool_size=(2, 2)) (X)\n",
    "    return X, enX"
   ]
  },
  {
   "cell_type": "code",
   "execution_count": 12,
   "id": "911db805",
   "metadata": {},
   "outputs": [
    {
     "name": "stderr",
     "output_type": "stream",
     "text": [
      "2024-11-02 12:50:20.706549: I metal_plugin/src/device/metal_device.cc:1154] Metal device set to: Apple M1 Max\n",
      "2024-11-02 12:50:20.706571: I metal_plugin/src/device/metal_device.cc:296] systemMemory: 32.00 GB\n",
      "2024-11-02 12:50:20.706583: I metal_plugin/src/device/metal_device.cc:313] maxCacheSize: 10.67 GB\n",
      "2024-11-02 12:50:20.706600: I tensorflow/core/common_runtime/pluggable_device/pluggable_device_factory.cc:305] Could not identify NUMA node of platform GPU ID 0, defaulting to 0. Your kernel may not have been built with NUMA support.\n",
      "2024-11-02 12:50:20.706611: I tensorflow/core/common_runtime/pluggable_device/pluggable_device_factory.cc:271] Created TensorFlow device (/job:localhost/replica:0/task:0/device:GPU:0 with 0 MB memory) -> physical PluggableDevice (device: 0, name: METAL, pci bus id: <undefined>)\n"
     ]
    },
    {
     "data": {
      "text/html": [
       "<text style=color:green>IMPLEMENTATION IS CORRECT! GOOD JOB!</text>"
      ],
      "text/plain": [
       "<IPython.core.display.HTML object>"
      ]
     },
     "execution_count": 12,
     "metadata": {},
     "output_type": "execute_result"
    }
   ],
   "source": [
    "# RUN THIS CELL TO TEST YOUR CODE\n",
    "TEST_ENCODER_BLOCK(encoder_block)  # TODO fix"
   ]
  },
  {
   "cell_type": "markdown",
   "id": "46ae4c58",
   "metadata": {},
   "source": [
    "## Exercise 3 Decoder block\n",
    "\n",
    "In this exercise, you'll complete the **decoder_block** function. This function will be used to create a single block in the second part of the network. \n",
    "\n",
    "![](images/decoder-illustration.png)\n",
    "\n",
    "The decoder block accepts 3 arguments *inputs* from a previous layer in the network, output from a corresponding encoder layer, and *features* used for Conv2D layers.\n",
    "\n",
    "Each Decoder block has **five (4)** parts/steps\n",
    "\n",
    "1. Start with Conv2DTranspose with the number of features equal to the argument from the function, 2x2 kernel, 2x2 strides, and padding is equal to \"same\"\n",
    "    - This layer is used to increase the size of the input by two (e.g., if the input is 16x16, the output will be 32x32)\n",
    "2. The second step is the most important step for the U-Net architecture - Concatenating corresponding encoder output with step 1. HINT: use tf.concat([], axis=3)\n",
    "3. Conv2D layer, which gets the number of features from the argument of the function, 3x3 kernel, and activation is ReLu. Padding is \"same\"\n",
    "4. Dropout layer with 0.2 drop rate\n",
    "5. Conv2d layer with the same set of arguments as the Conv2D from step 3\n",
    "\n",
    "Learning resources:\n",
    "- Transposed convolutions https://towardsdatascience.com/transposed-convolution-demystified-84ca81b4baba"
   ]
  },
  {
   "cell_type": "code",
   "execution_count": 13,
   "id": "a3f2bc10",
   "metadata": {},
   "outputs": [],
   "source": [
    "from tensorflow.keras import layers\n",
    "\n",
    "def decoder_block(X, outp_enc_layer, features):\n",
    "    \"\"\"\n",
    "    Create an decoder_block (layer) for the U-Net\n",
    "\n",
    "    Args:\n",
    "        X - input from the previous layer\n",
    "        outp_enc_layer - Output from a corresponding encoder layer\n",
    "        features :int: - number of features used in Conv2D and Conv2DTranspose layers\n",
    "    \"\"\"\n",
    "    X = Conv2DTranspose(features, (2,2), strides=(2,2), padding=\"same\") (X)\n",
    "    X = layers.Concatenate(axis=3)([X, outp_enc_layer])\n",
    "    X = Dropout(0.2) (X)\n",
    "    X = Conv2D(features, 3, activation=\"relu\", padding=\"same\") (X)\n",
    "    return X"
   ]
  },
  {
   "cell_type": "code",
   "execution_count": 14,
   "id": "10a2076a",
   "metadata": {},
   "outputs": [
    {
     "data": {
      "text/html": [
       "<text style=color:green>IMPLEMENTATION IS CORRECT! GOOD JOB!</text>"
      ],
      "text/plain": [
       "<IPython.core.display.HTML object>"
      ]
     },
     "execution_count": 14,
     "metadata": {},
     "output_type": "execute_result"
    }
   ],
   "source": [
    "# RUN THIS CELL TO TEST YOUR CODE\n",
    "TEST_DECODER_BLOCK(decoder_block, encoder_block)"
   ]
  },
  {
   "cell_type": "markdown",
   "metadata": {},
   "source": [
    "## Exercise 3 Complete the U-Net architecture\n",
    "\n",
    "On the image here, you can see the architecture we are building here.\n",
    "\n",
    "![](images/u-net.png)\n"
   ]
  },
  {
   "cell_type": "code",
   "execution_count": 15,
   "metadata": {},
   "outputs": [
    {
     "data": {
      "text/html": [
       "\n",
       "        <iframe\n",
       "            width=\"1000\"\n",
       "            height=\"500\"\n",
       "            src=\"https://www.youtube.com/embed/azM57JuQpQI\"\n",
       "            frameborder=\"0\"\n",
       "            allowfullscreen\n",
       "            \n",
       "        ></iframe>\n",
       "        "
      ],
      "text/plain": [
       "<IPython.lib.display.IFrame at 0x355eaee50>"
      ]
     },
     "execution_count": 15,
     "metadata": {},
     "output_type": "execute_result"
    }
   ],
   "source": [
    "IFrame(\"https://www.youtube.com/embed/azM57JuQpQI\", 1000, 500)"
   ]
  },
  {
   "cell_type": "markdown",
   "metadata": {},
   "source": [
    "**In some cases, IPython widgets do not work!**\n",
    "\n",
    "If this is the case, here is the like for YouTube video from the cell above: https://www.youtube.com/watch?v=azM57JuQpQI\n"
   ]
  },
  {
   "cell_type": "code",
   "execution_count": 16,
   "metadata": {},
   "outputs": [
    {
     "data": {
      "text/html": [
       "\n",
       "        <iframe\n",
       "            width=\"1000\"\n",
       "            height=\"500\"\n",
       "            src=\"https://www.youtube.com/embed/oLvmLJkmXuc\"\n",
       "            frameborder=\"0\"\n",
       "            allowfullscreen\n",
       "            \n",
       "        ></iframe>\n",
       "        "
      ],
      "text/plain": [
       "<IPython.lib.display.IFrame at 0x355eae6a0>"
      ]
     },
     "execution_count": 16,
     "metadata": {},
     "output_type": "execute_result"
    }
   ],
   "source": [
    "IFrame(\"https://www.youtube.com/embed/oLvmLJkmXuc\", 1000,500)"
   ]
  },
  {
   "cell_type": "markdown",
   "metadata": {},
   "source": [
    "**In some cases, IPython widgets do not work!**\n",
    "\n",
    "If this is the case, here is the like for YouTube video from the cell above: https://www.youtube.com/watch?v=oLvmLJkmXuc\n"
   ]
  },
  {
   "cell_type": "markdown",
   "metadata": {},
   "source": [
    "- Understanding Semantic Segmentation with UNET https://towardsdatascience.com/understanding-semantic-segmentation-with-unet-6be4f42d4b47\n",
    "\n",
    "In the cell below, fill in the missing parts to get the same architecture as represented in the picture. Inputs, the middle part, and the output layer are already given to you.\n",
    "\n",
    "Encoder hints:\n",
    "1. Encoder is made out of 4 **encoder_blocks** \n",
    "    - First one has 16 features\n",
    "    - Second one, 32, features\n",
    "    - Third one, 64 \n",
    "    - Fourth block has 128\n",
    "\n",
    "2. Each encoder block returns two values, real outputs and outputs used to concatenate with corresponding decoder block\n",
    "3. Decoder block has  4 **decoder_blocks**\n",
    "    - First has 128, and this block is paired with encoder block 4\n",
    "    - Second block has 64, and it's paired with 3rd encoder block\n",
    "    - Third block has 32, and corresponding encoder block is the 2nd one\n",
    "    - Fourth one has 16 and pairs it with the first encoder block"
   ]
  },
  {
   "cell_type": "code",
   "execution_count": 17,
   "metadata": {},
   "outputs": [],
   "source": [
    "inputs = Input((128, 128,1))\n",
    "\n",
    "# YOUR CODE GOES HERE\n",
    "X, enc1 = encoder_block(inputs, 16)\n",
    "X, enc2 = encoder_block(X, 32)\n",
    "X, enc3 = encoder_block(X, 64)\n",
    "X, enc4 = encoder_block(X, 128)\n",
    "\n",
    "mid = Conv2D(256, (3, 3), activation='relu', padding='same') (X)\n",
    "mid = Dropout(0.3) (mid)\n",
    "mid = Conv2D(256, (3, 3), activation='relu', padding='same') (mid)\n",
    "\n",
    "# YOUR CODE GOES HERE\n",
    "dec1 = decoder_block(mid, enc4, 128)\n",
    "dec2 = decoder_block(dec1, enc3, 64)\n",
    "dec3 = decoder_block(dec2, enc2, 32)\n",
    "dec4 = decoder_block(dec3, enc1, 16)\n",
    "\n",
    "# don't forget to add output from the last decoder alyer to the output layer\n",
    "outputs = Conv2D(1, (1, 1), activation='sigmoid') (dec4)\n",
    "\n",
    "model = Model(inputs=[inputs], outputs=[outputs])\n",
    "model.compile(optimizer='adam', loss='binary_crossentropy', metrics = ['accuracy'])  # TODO dice"
   ]
  },
  {
   "cell_type": "code",
   "execution_count": 25,
   "metadata": {},
   "outputs": [
    {
     "name": "stdout",
     "output_type": "stream",
     "text": [
      "model.count_params() 1744737\n",
      "model.layers [<InputLayer name=input_layer_3, built=True>, <Conv2D name=conv2d_5, built=True>, <Dropout name=dropout_3, built=True>, <MaxPooling2D name=max_pooling2d_2, built=True>, <Conv2D name=conv2d_7, built=True>, <Dropout name=dropout_4, built=True>, <MaxPooling2D name=max_pooling2d_3, built=True>, <Conv2D name=conv2d_9, built=True>, <Dropout name=dropout_5, built=True>, <MaxPooling2D name=max_pooling2d_4, built=True>, <Conv2D name=conv2d_11, built=True>, <Dropout name=dropout_6, built=True>, <MaxPooling2D name=max_pooling2d_5, built=True>, <Conv2D name=conv2d_13, built=True>, <Dropout name=dropout_7, built=True>, <Conv2D name=conv2d_14, built=True>, <Conv2DTranspose name=conv2d_transpose_1, built=True>, <Conv2D name=conv2d_12, built=True>, <Concatenate name=concatenate_1, built=True>, <Dropout name=dropout_8, built=True>, <Conv2D name=conv2d_15, built=True>, <Conv2DTranspose name=conv2d_transpose_2, built=True>, <Conv2D name=conv2d_10, built=True>, <Concatenate name=concatenate_2, built=True>, <Dropout name=dropout_9, built=True>, <Conv2D name=conv2d_16, built=True>, <Conv2DTranspose name=conv2d_transpose_3, built=True>, <Conv2D name=conv2d_8, built=True>, <Concatenate name=concatenate_3, built=True>, <Dropout name=dropout_10, built=True>, <Conv2D name=conv2d_17, built=True>, <Conv2DTranspose name=conv2d_transpose_4, built=True>, <Conv2D name=conv2d_6, built=True>, <Concatenate name=concatenate_4, built=True>, <Dropout name=dropout_11, built=True>, <Conv2D name=conv2d_18, built=True>, <Conv2D name=conv2d_19, built=True>]\n"
     ]
    },
    {
     "data": {
      "text/html": [
       "<text style=color:green>IMPLEMENTATION IS CORRECT! GOOD JOB!</text>"
      ],
      "text/plain": [
       "<IPython.core.display.HTML object>"
      ]
     },
     "execution_count": 25,
     "metadata": {},
     "output_type": "execute_result"
    }
   ],
   "source": [
    "# RUN THIS CELL TO TEST YOUR CODE\n",
    "TEST_UNET_MODEL(model)"
   ]
  },
  {
   "cell_type": "markdown",
   "metadata": {},
   "source": [
    "## Exercise 4 (Optional) Model callbacks\n",
    "\n",
    "Define **EarlyStopping** callback. You can use arguments of choice here\n",
    "Define **ModelCheckpoint** callback, use save_best_only=True, choose whatever name you want"
   ]
  },
  {
   "cell_type": "code",
   "execution_count": null,
   "metadata": {},
   "outputs": [],
   "source": [
    "earlystopping_callback = EarlyStopping(patience=5, verbose=1)\n",
    "checkpoint_callback = ModelCheckpoint('model-dsbowl2018-1.keras', verbose=1, save_best_only=True)"
   ]
  },
  {
   "cell_type": "markdown",
   "metadata": {},
   "source": [
    "## Exercise 5 Train the model\n",
    "\n",
    "Call the **fit** function on the model and provide all the necessary arguments. In the cell below, you'll find already pre-defined hyperparameters for training, but try to experiment with them.\n",
    "\n",
    "NOTE: If you choose to solve **Exercise 4** don't forget to put them in the fit function \n",
    "- https://keras.io/api/callbacks/"
   ]
  },
  {
   "cell_type": "code",
   "execution_count": 20,
   "metadata": {},
   "outputs": [],
   "source": [
    "BATCH_SIZE=16\n",
    "EPOCHS=20\n",
    "VALIDATION_SPLIT=0.1"
   ]
  },
  {
   "cell_type": "code",
   "execution_count": 21,
   "metadata": {},
   "outputs": [
    {
     "name": "stdout",
     "output_type": "stream",
     "text": [
      "Epoch 1/20\n"
     ]
    },
    {
     "name": "stderr",
     "output_type": "stream",
     "text": [
      "2024-11-02 12:50:23.438626: I tensorflow/core/grappler/optimizers/custom_graph_optimizer_registry.cc:117] Plugin optimizer for device_type GPU is enabled.\n"
     ]
    },
    {
     "name": "stdout",
     "output_type": "stream",
     "text": [
      "\u001b[1m38/38\u001b[0m \u001b[32m━━━━━━━━━━━━━━━━━━━━\u001b[0m\u001b[37m\u001b[0m \u001b[1m0s\u001b[0m 228ms/step - accuracy: 0.6024 - loss: 2.7587\n",
      "Epoch 1: val_loss improved from inf to 0.54838, saving model to model-dsbowl2018-1.keras\n",
      "\u001b[1m38/38\u001b[0m \u001b[32m━━━━━━━━━━━━━━━━━━━━\u001b[0m\u001b[37m\u001b[0m \u001b[1m21s\u001b[0m 264ms/step - accuracy: 0.6060 - loss: 2.7209 - val_accuracy: 0.8603 - val_loss: 0.5484\n",
      "Epoch 2/20\n",
      "\u001b[1m38/38\u001b[0m \u001b[32m━━━━━━━━━━━━━━━━━━━━\u001b[0m\u001b[37m\u001b[0m \u001b[1m0s\u001b[0m 201ms/step - accuracy: 0.8479 - loss: 0.5033\n",
      "Epoch 2: val_loss improved from 0.54838 to 0.21374, saving model to model-dsbowl2018-1.keras\n",
      "\u001b[1m38/38\u001b[0m \u001b[32m━━━━━━━━━━━━━━━━━━━━\u001b[0m\u001b[37m\u001b[0m \u001b[1m8s\u001b[0m 207ms/step - accuracy: 0.8479 - loss: 0.5014 - val_accuracy: 0.8776 - val_loss: 0.2137\n",
      "Epoch 3/20\n",
      "\u001b[1m38/38\u001b[0m \u001b[32m━━━━━━━━━━━━━━━━━━━━\u001b[0m\u001b[37m\u001b[0m \u001b[1m0s\u001b[0m 191ms/step - accuracy: 0.8706 - loss: 0.2338\n",
      "Epoch 3: val_loss improved from 0.21374 to 0.16013, saving model to model-dsbowl2018-1.keras\n",
      "\u001b[1m38/38\u001b[0m \u001b[32m━━━━━━━━━━━━━━━━━━━━\u001b[0m\u001b[37m\u001b[0m \u001b[1m7s\u001b[0m 197ms/step - accuracy: 0.8708 - loss: 0.2332 - val_accuracy: 0.9054 - val_loss: 0.1601\n",
      "Epoch 4/20\n",
      "\u001b[1m38/38\u001b[0m \u001b[32m━━━━━━━━━━━━━━━━━━━━\u001b[0m\u001b[37m\u001b[0m \u001b[1m0s\u001b[0m 196ms/step - accuracy: 0.8963 - loss: 0.1784\n",
      "Epoch 4: val_loss improved from 0.16013 to 0.13920, saving model to model-dsbowl2018-1.keras\n",
      "\u001b[1m38/38\u001b[0m \u001b[32m━━━━━━━━━━━━━━━━━━━━\u001b[0m\u001b[37m\u001b[0m \u001b[1m8s\u001b[0m 201ms/step - accuracy: 0.8964 - loss: 0.1783 - val_accuracy: 0.9161 - val_loss: 0.1392\n",
      "Epoch 5/20\n",
      "\u001b[1m38/38\u001b[0m \u001b[32m━━━━━━━━━━━━━━━━━━━━\u001b[0m\u001b[37m\u001b[0m \u001b[1m0s\u001b[0m 192ms/step - accuracy: 0.9125 - loss: 0.1585\n",
      "Epoch 5: val_loss improved from 0.13920 to 0.12976, saving model to model-dsbowl2018-1.keras\n",
      "\u001b[1m38/38\u001b[0m \u001b[32m━━━━━━━━━━━━━━━━━━━━\u001b[0m\u001b[37m\u001b[0m \u001b[1m8s\u001b[0m 198ms/step - accuracy: 0.9124 - loss: 0.1586 - val_accuracy: 0.9237 - val_loss: 0.1298\n",
      "Epoch 6/20\n",
      "\u001b[1m38/38\u001b[0m \u001b[32m━━━━━━━━━━━━━━━━━━━━\u001b[0m\u001b[37m\u001b[0m \u001b[1m0s\u001b[0m 199ms/step - accuracy: 0.9190 - loss: 0.1553\n",
      "Epoch 6: val_loss improved from 0.12976 to 0.11598, saving model to model-dsbowl2018-1.keras\n",
      "\u001b[1m38/38\u001b[0m \u001b[32m━━━━━━━━━━━━━━━━━━━━\u001b[0m\u001b[37m\u001b[0m \u001b[1m8s\u001b[0m 205ms/step - accuracy: 0.9191 - loss: 0.1550 - val_accuracy: 0.9322 - val_loss: 0.1160\n",
      "Epoch 7/20\n",
      "\u001b[1m38/38\u001b[0m \u001b[32m━━━━━━━━━━━━━━━━━━━━\u001b[0m\u001b[37m\u001b[0m \u001b[1m0s\u001b[0m 192ms/step - accuracy: 0.9279 - loss: 0.1385\n",
      "Epoch 7: val_loss improved from 0.11598 to 0.10628, saving model to model-dsbowl2018-1.keras\n",
      "\u001b[1m38/38\u001b[0m \u001b[32m━━━━━━━━━━━━━━━━━━━━\u001b[0m\u001b[37m\u001b[0m \u001b[1m7s\u001b[0m 197ms/step - accuracy: 0.9279 - loss: 0.1384 - val_accuracy: 0.9429 - val_loss: 0.1063\n",
      "Epoch 8/20\n",
      "\u001b[1m38/38\u001b[0m \u001b[32m━━━━━━━━━━━━━━━━━━━━\u001b[0m\u001b[37m\u001b[0m \u001b[1m0s\u001b[0m 200ms/step - accuracy: 0.9360 - loss: 0.1192\n",
      "Epoch 8: val_loss improved from 0.10628 to 0.09825, saving model to model-dsbowl2018-1.keras\n",
      "\u001b[1m38/38\u001b[0m \u001b[32m━━━━━━━━━━━━━━━━━━━━\u001b[0m\u001b[37m\u001b[0m \u001b[1m8s\u001b[0m 205ms/step - accuracy: 0.9360 - loss: 0.1192 - val_accuracy: 0.9462 - val_loss: 0.0982\n",
      "Epoch 9/20\n",
      "\u001b[1m38/38\u001b[0m \u001b[32m━━━━━━━━━━━━━━━━━━━━\u001b[0m\u001b[37m\u001b[0m \u001b[1m0s\u001b[0m 193ms/step - accuracy: 0.9378 - loss: 0.1131\n",
      "Epoch 9: val_loss improved from 0.09825 to 0.09458, saving model to model-dsbowl2018-1.keras\n",
      "\u001b[1m38/38\u001b[0m \u001b[32m━━━━━━━━━━━━━━━━━━━━\u001b[0m\u001b[37m\u001b[0m \u001b[1m8s\u001b[0m 198ms/step - accuracy: 0.9379 - loss: 0.1130 - val_accuracy: 0.9475 - val_loss: 0.0946\n",
      "Epoch 10/20\n",
      "\u001b[1m38/38\u001b[0m \u001b[32m━━━━━━━━━━━━━━━━━━━━\u001b[0m\u001b[37m\u001b[0m \u001b[1m0s\u001b[0m 192ms/step - accuracy: 0.9401 - loss: 0.1093\n",
      "Epoch 10: val_loss improved from 0.09458 to 0.09195, saving model to model-dsbowl2018-1.keras\n",
      "\u001b[1m38/38\u001b[0m \u001b[32m━━━━━━━━━━━━━━━━━━━━\u001b[0m\u001b[37m\u001b[0m \u001b[1m8s\u001b[0m 197ms/step - accuracy: 0.9402 - loss: 0.1092 - val_accuracy: 0.9482 - val_loss: 0.0920\n",
      "Epoch 11/20\n",
      "\u001b[1m38/38\u001b[0m \u001b[32m━━━━━━━━━━━━━━━━━━━━\u001b[0m\u001b[37m\u001b[0m \u001b[1m0s\u001b[0m 205ms/step - accuracy: 0.9411 - loss: 0.1070\n",
      "Epoch 11: val_loss improved from 0.09195 to 0.08787, saving model to model-dsbowl2018-1.keras\n",
      "\u001b[1m38/38\u001b[0m \u001b[32m━━━━━━━━━━━━━━━━━━━━\u001b[0m\u001b[37m\u001b[0m \u001b[1m8s\u001b[0m 211ms/step - accuracy: 0.9411 - loss: 0.1069 - val_accuracy: 0.9514 - val_loss: 0.0879\n",
      "Epoch 12/20\n",
      "\u001b[1m38/38\u001b[0m \u001b[32m━━━━━━━━━━━━━━━━━━━━\u001b[0m\u001b[37m\u001b[0m \u001b[1m0s\u001b[0m 208ms/step - accuracy: 0.9423 - loss: 0.1046\n",
      "Epoch 12: val_loss improved from 0.08787 to 0.08427, saving model to model-dsbowl2018-1.keras\n",
      "\u001b[1m38/38\u001b[0m \u001b[32m━━━━━━━━━━━━━━━━━━━━\u001b[0m\u001b[37m\u001b[0m \u001b[1m8s\u001b[0m 216ms/step - accuracy: 0.9423 - loss: 0.1044 - val_accuracy: 0.9517 - val_loss: 0.0843\n",
      "Epoch 13/20\n",
      "\u001b[1m38/38\u001b[0m \u001b[32m━━━━━━━━━━━━━━━━━━━━\u001b[0m\u001b[37m\u001b[0m \u001b[1m0s\u001b[0m 201ms/step - accuracy: 0.9435 - loss: 0.1028\n",
      "Epoch 13: val_loss improved from 0.08427 to 0.08158, saving model to model-dsbowl2018-1.keras\n",
      "\u001b[1m38/38\u001b[0m \u001b[32m━━━━━━━━━━━━━━━━━━━━\u001b[0m\u001b[37m\u001b[0m \u001b[1m8s\u001b[0m 206ms/step - accuracy: 0.9435 - loss: 0.1026 - val_accuracy: 0.9528 - val_loss: 0.0816\n",
      "Epoch 14/20\n",
      "\u001b[1m38/38\u001b[0m \u001b[32m━━━━━━━━━━━━━━━━━━━━\u001b[0m\u001b[37m\u001b[0m \u001b[1m0s\u001b[0m 198ms/step - accuracy: 0.9473 - loss: 0.0939\n",
      "Epoch 14: val_loss improved from 0.08158 to 0.07881, saving model to model-dsbowl2018-1.keras\n",
      "\u001b[1m38/38\u001b[0m \u001b[32m━━━━━━━━━━━━━━━━━━━━\u001b[0m\u001b[37m\u001b[0m \u001b[1m8s\u001b[0m 203ms/step - accuracy: 0.9473 - loss: 0.0939 - val_accuracy: 0.9539 - val_loss: 0.0788\n",
      "Epoch 15/20\n",
      "\u001b[1m38/38\u001b[0m \u001b[32m━━━━━━━━━━━━━━━━━━━━\u001b[0m\u001b[37m\u001b[0m \u001b[1m0s\u001b[0m 189ms/step - accuracy: 0.9495 - loss: 0.0881\n",
      "Epoch 15: val_loss did not improve from 0.07881\n",
      "\u001b[1m38/38\u001b[0m \u001b[32m━━━━━━━━━━━━━━━━━━━━\u001b[0m\u001b[37m\u001b[0m \u001b[1m7s\u001b[0m 191ms/step - accuracy: 0.9494 - loss: 0.0883 - val_accuracy: 0.9536 - val_loss: 0.0801\n",
      "Epoch 16/20\n",
      "\u001b[1m38/38\u001b[0m \u001b[32m━━━━━━━━━━━━━━━━━━━━\u001b[0m\u001b[37m\u001b[0m \u001b[1m0s\u001b[0m 184ms/step - accuracy: 0.9488 - loss: 0.0896\n",
      "Epoch 16: val_loss improved from 0.07881 to 0.07790, saving model to model-dsbowl2018-1.keras\n",
      "\u001b[1m38/38\u001b[0m \u001b[32m━━━━━━━━━━━━━━━━━━━━\u001b[0m\u001b[37m\u001b[0m \u001b[1m7s\u001b[0m 188ms/step - accuracy: 0.9488 - loss: 0.0897 - val_accuracy: 0.9543 - val_loss: 0.0779\n",
      "Epoch 17/20\n",
      "\u001b[1m38/38\u001b[0m \u001b[32m━━━━━━━━━━━━━━━━━━━━\u001b[0m\u001b[37m\u001b[0m \u001b[1m0s\u001b[0m 191ms/step - accuracy: 0.9489 - loss: 0.0887\n",
      "Epoch 17: val_loss improved from 0.07790 to 0.07456, saving model to model-dsbowl2018-1.keras\n",
      "\u001b[1m38/38\u001b[0m \u001b[32m━━━━━━━━━━━━━━━━━━━━\u001b[0m\u001b[37m\u001b[0m \u001b[1m7s\u001b[0m 196ms/step - accuracy: 0.9489 - loss: 0.0887 - val_accuracy: 0.9558 - val_loss: 0.0746\n",
      "Epoch 18/20\n",
      "\u001b[1m38/38\u001b[0m \u001b[32m━━━━━━━━━━━━━━━━━━━━\u001b[0m\u001b[37m\u001b[0m \u001b[1m0s\u001b[0m 190ms/step - accuracy: 0.9538 - loss: 0.0787\n",
      "Epoch 18: val_loss did not improve from 0.07456\n",
      "\u001b[1m38/38\u001b[0m \u001b[32m━━━━━━━━━━━━━━━━━━━━\u001b[0m\u001b[37m\u001b[0m \u001b[1m7s\u001b[0m 192ms/step - accuracy: 0.9537 - loss: 0.0790 - val_accuracy: 0.9541 - val_loss: 0.0775\n",
      "Epoch 19/20\n",
      "\u001b[1m38/38\u001b[0m \u001b[32m━━━━━━━━━━━━━━━━━━━━\u001b[0m\u001b[37m\u001b[0m \u001b[1m0s\u001b[0m 185ms/step - accuracy: 0.9501 - loss: 0.0852\n",
      "Epoch 19: val_loss did not improve from 0.07456\n",
      "\u001b[1m38/38\u001b[0m \u001b[32m━━━━━━━━━━━━━━━━━━━━\u001b[0m\u001b[37m\u001b[0m \u001b[1m7s\u001b[0m 187ms/step - accuracy: 0.9501 - loss: 0.0852 - val_accuracy: 0.9557 - val_loss: 0.0746\n",
      "Epoch 20/20\n",
      "\u001b[1m38/38\u001b[0m \u001b[32m━━━━━━━━━━━━━━━━━━━━\u001b[0m\u001b[37m\u001b[0m \u001b[1m0s\u001b[0m 189ms/step - accuracy: 0.9496 - loss: 0.0858\n",
      "Epoch 20: val_loss improved from 0.07456 to 0.07206, saving model to model-dsbowl2018-1.keras\n",
      "\u001b[1m38/38\u001b[0m \u001b[32m━━━━━━━━━━━━━━━━━━━━\u001b[0m\u001b[37m\u001b[0m \u001b[1m7s\u001b[0m 194ms/step - accuracy: 0.9496 - loss: 0.0857 - val_accuracy: 0.9566 - val_loss: 0.0721\n"
     ]
    }
   ],
   "source": [
    "results = model.fit(X_train, y_train, validation_split=VALIDATION_SPLIT, batch_size=BATCH_SIZE, epochs=EPOCHS,\n",
    "                    callbacks=[earlystopping_callback, checkpoint_callback])"
   ]
  },
  {
   "cell_type": "markdown",
   "metadata": {},
   "source": [
    "### Predicting using the trained model\n",
    "\n",
    "We call **model.predict** and provide the **X_test** set to it to make a prediction. Our model will make predictions going from 0 to 1, but we need to binarize the output. To do that, we can simply add **> 0.5** after that, which will make the prediction 1 (True) or 0 (False) for this comparison. "
   ]
  },
  {
   "cell_type": "code",
   "execution_count": 22,
   "metadata": {},
   "outputs": [
    {
     "name": "stdout",
     "output_type": "stream",
     "text": [
      "\u001b[1m3/3\u001b[0m \u001b[32m━━━━━━━━━━━━━━━━━━━━\u001b[0m\u001b[37m\u001b[0m \u001b[1m2s\u001b[0m 553ms/step\n"
     ]
    }
   ],
   "source": [
    "preds = model.predict(X_test, verbose=1) > 0.5"
   ]
  },
  {
   "cell_type": "code",
   "execution_count": 23,
   "metadata": {},
   "outputs": [
    {
     "data": {
      "image/png": "[encoded data removed]",
      "text/plain": [
       "<Figure size 640x480 with 1 Axes>"
      ]
     },
     "metadata": {},
     "output_type": "display_data"
    },
    {
     "data": {
      "image/png": "[encoded data removed]",
      "text/plain": [
       "<Figure size 640x480 with 1 Axes>"
      ]
     },
     "metadata": {},
     "output_type": "display_data"
    }
   ],
   "source": [
    "ix = random.randint(0, len(preds))\n",
    "plt.imshow(X_test[ix], cmap='gray')\n",
    "plt.show()\n",
    "plt.imshow(np.squeeze(preds[ix]), cmap='gray')\n",
    "plt.show()"
   ]
  },
  {
   "cell_type": "markdown",
   "metadata": {},
   "source": [
    "# Reading homework - Mask R-CNN\n",
    "\n",
    "\n",
    "Now that you know how U-Net and R-CNN work, it's time to read about an R-CNN version used for semantic segmentation called Masked R-CNN. We won't be implementing it here, but you'll have a lot of resources that go through code parts.\n",
    "\n",
    "\n",
    "### Topics covered and learning objectives\n",
    "- Mask R-CNN\n",
    "\n",
    "### Time estimates:\n",
    "- Reading/Watching materials: 1h\n",
    "<br><br>\n",
    "- **Total**: ~1h\n",
    "\n",
    "\n",
    "\n",
    "- Simple introduction to Mask R-CNN https://alittlepain833.medium.com/simple-understanding-of-mask-rcnn-134b5b330e95 \n",
    "- Video introduction to semantic segmentation https://www.youtube.com/watch?v=4tkgOzQ9yyo\n",
    "- Get deeper into Mask R-CNN with pieces of code https://towardsdatascience.com/computer-vision-instance-segmentation-with-mask-r-cnn-7983502fcad1\n",
    "- Keras and Mask R-CNN https://machinelearningmastery.com/how-to-perform-object-detection-in-photographs-with-mask-r-cnn-in-keras/\n",
    "- Implementation and project with Mask R-CNN https://towardsdatascience.com/webcam-object-detection-with-mask-r-cnn-on-google-colab-b3b012053ed1\n",
    "\n",
    "Try it out in the cloud:\n",
    "https://colab.research.google.com/github/tensorflow/tpu/blob/master/models/official/mask_rcnn/mask_rcnn_demo.ipynb"
   ]
  },
  {
   "cell_type": "code",
   "execution_count": null,
   "metadata": {},
   "outputs": [],
   "source": []
  }
 ],
 "metadata": {
  "kernelspec": {
   "display_name": "Python 3",
   "language": "python",
   "name": "python3"
  },
  "language_info": {
   "codemirror_mode": {
    "name": "ipython",
    "version": 3
   },
   "file_extension": ".py",
   "mimetype": "text/x-python",
   "name": "python",
   "nbconvert_exporter": "python",
   "pygments_lexer": "ipython3",
   "version": "3.9.15"
  }
 },
 "nbformat": 4,
 "nbformat_minor": 5
}
