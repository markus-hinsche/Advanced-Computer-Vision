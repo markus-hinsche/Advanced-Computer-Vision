{
 "cells": [
  {
   "cell_type": "markdown",
   "id": "22e626f0",
   "metadata": {},
   "source": [
    "# Introduction to Object Detection\n",
    "\n",
    "So far, we have built models that take images as an input and produce a single class or multiple classes present in the image. \n",
    "\n",
    "Now, imagine we have to build a self-driving car - the first thing to think about is the safety of passengers and the car's environment. We don't want to steer to the pedestrian accidentally. So we start by building a model for pedestrian detection, but we notice that our car stops once a pedestrian is detected in a frame! This behavior is logical since our classifier detects a human in the frame, but not it's a relative position to the car, and we do not estimate if the car can proceed with its driving. \n",
    "\n",
    "![](https://development.asia/sites/default/files/case-study/pedestrian-friendly-streets_0.jpg)\n",
    "<center>Image taken from <a href=\"https://development.asia/case-study/how-make-pedestrian-friendly-streets\">here</a></center>\n",
    "\n",
    "\n",
    "This approach does not apply to our case; we need to change something! Enter Object detection - Using this task, we are not predicting if a pedestrian is in a frame, but its exact coordinates. Using this information, we can easily project it to our surroundings and decide that the pedestrian is standing on the red light, and we can proceed. \n",
    "\n",
    "![](https://media.springernature.com/lw685/springer-static/image/art%3A10.1007%2Fs11042-017-4933-1/MediaObjects/11042_2017_4933_Fig1_HTML.gif)\n",
    "\n",
    "Now, this is a simplified explanation, but the gist is there. The goal of object detection is to predict the exact location of an object in an image. To achieve this, we need to build a bit of different algorithms. Our predictions are coordinates of bounding boxes (it can be (X, Y) from the top left corner and height, width OR (X, Y) of center, and height and width). \n",
    "\n",
    "![](images/targets.png)\n",
    "\n",
    "Before we proceed, here is a good article taking you from image classification to object detection -  https://towardsdatascience.com/introduction-to-object-detection-943f21e26063\n",
    "\n",
    "\n",
    "### Steps:\n",
    "1. Implement IoU algorithm\n",
    "\n",
    "### Topics covered and learning objectives\n",
    "- Intersection over Union (IoU)\n",
    "- Object detection concept\n",
    "\n",
    "### Time estimates:\n",
    "- Reading/Watching materials: 1h 30min\n",
    "- Exercises: 30min\n",
    "<br><br>\n",
    "- **Total**: ~2h\n",
    "\n",
    "\n",
    "## Introduction to Object detection by Stanford"
   ]
  },
  {
   "cell_type": "code",
   "execution_count": 1,
   "id": "c15723e5",
   "metadata": {},
   "outputs": [],
   "source": [
    "import numpy as np\n",
    "from tests import IoUTest\n",
    "\n",
    "# For loading YouTube videos\n",
    "from IPython.display import IFrame"
   ]
  },
  {
   "cell_type": "code",
   "execution_count": null,
   "id": "62b6e4a4",
   "metadata": {
    "scrolled": false
   },
   "outputs": [],
   "source": [
    "IFrame(\"https://www.youtube.com/embed/nDPWywWRIRo\", 1000, 500)"
   ]
  },
  {
   "cell_type": "markdown",
   "id": "91e3c3e9",
   "metadata": {},
   "source": [
    "**In some cases, Ipython widgets do not work!**\n",
    "\n",
    "If this is the case, here is the like for YouTube video from the cell above: https://www.youtube.com/embed/nDPWywWRIRo"
   ]
  },
  {
   "cell_type": "markdown",
   "id": "b288d20a",
   "metadata": {},
   "source": [
    "Before we jump into the first architecture used for object detection, we need to build a function to estimate how good our models are!\n",
    "\n",
    "One metric to follow is called Intersection over Union (IoU). This metric calculates how much overlap is between the target bounding box and the predicted one. \n",
    "\n",
    "To understand how it's calculated and how to use it, follow this blog post: https://www.pyimagesearch.com/2016/11/07/intersection-over-union-iou-for-object-detection/\n",
    "\n",
    "## Exercise 1: Implement the IoU algorithm\n",
    "\n",
    "- Step 1: Using the provided blog post, complete the implementation of the IoU algorithm below.\n",
    "- Step 2: Change it so instead of accepting the list of numbers like in the blog post, optimize it to accept dictionaries in the format:\n",
    "\n",
    "    **{\"x1\":100, \"x2\":200, \"y1\":320, \"y2\":350\"}**"
   ]
  },
  {
   "cell_type": "code",
   "execution_count": null,
   "id": "3f0a8b93",
   "metadata": {},
   "outputs": [],
   "source": [
    "def IoU(boxA, boxB):\n",
    "    raise NotImplementedError"
   ]
  },
  {
   "cell_type": "code",
   "execution_count": null,
   "id": "65d40ad2",
   "metadata": {},
   "outputs": [],
   "source": [
    "### RUN THIS CELL TO CHECK YOUR CODE\n",
    "IoUTest(IoU)"
   ]
  },
  {
   "cell_type": "code",
   "execution_count": null,
   "id": "a6f1081f",
   "metadata": {},
   "outputs": [],
   "source": []
  }
 ],
 "metadata": {
  "kernelspec": {
   "display_name": "Python 3",
   "language": "python",
   "name": "python3"
  },
  "language_info": {
   "codemirror_mode": {
    "name": "ipython",
    "version": 3
   },
   "file_extension": ".py",
   "mimetype": "text/x-python",
   "name": "python",
   "nbconvert_exporter": "python",
   "pygments_lexer": "ipython3",
   "version": "3.7.9"
  }
 },
 "nbformat": 4,
 "nbformat_minor": 5
}
